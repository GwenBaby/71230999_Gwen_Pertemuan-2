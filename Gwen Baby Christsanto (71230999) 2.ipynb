{
 "cells": [
  {
   "cell_type": "code",
   "execution_count": 1,
   "id": "5feec0e3",
   "metadata": {},
   "outputs": [
    {
     "name": "stdout",
     "output_type": "stream",
     "text": [
      "masukkan berat anda dalam kg : 65\n",
      "masukkan tinggi anda dalam meter : 1.72\n",
      "Angka BMI Anda adalah :  21.97\n",
      "Berat Badan Anda normal\n"
     ]
    }
   ],
   "source": [
    "berat_badan = int(input(\"masukkan berat anda dalam kg : \" ))\n",
    "tinggi_badan = float(input(\"masukkan tinggi anda dalam meter : \"))\n",
    "\n",
    "BMI  = berat_badan / (tinggi_badan) ** 2\n",
    "print (\"Angka BMI Anda adalah : \", \"{:.2f}\".format(BMI)) \n",
    "if BMI <= 18.5:\n",
    "    print (\"Berat Badan Anda kurang\")\n",
    "elif BMI <= 25:\n",
    "    print (\"Berat Badan Anda normal\")\n",
    "elif BMI <= 30:\n",
    "    print (\"Berat Badan Anda kelebihan\")\n",
    "else: print (\"Anda Obesitas\")"
   ]
  },
  {
   "cell_type": "code",
   "execution_count": 2,
   "id": "eee9dbb5",
   "metadata": {},
   "outputs": [
    {
     "name": "stdout",
     "output_type": "stream",
     "text": [
      "Masukkan Bilangan Bulat: 15\n",
      "6781.0\n"
     ]
    }
   ],
   "source": [
    "x = int(input(\"Masukkan Bilangan Bulat: \"))\n",
    "hasil = (2 * (x **3)) + (2 * x) + (15 / x)\n",
    "print (hasil)"
   ]
  },
  {
   "cell_type": "code",
   "execution_count": 3,
   "id": "111f16e4",
   "metadata": {},
   "outputs": [
    {
     "name": "stdout",
     "output_type": "stream",
     "text": [
      "Masukkan gaji per jam yang Anda inginkan: 50000\n",
      "Masukkan jumlah jam kerja per minggu yang Anda inginkan: 5\n",
      "1. Pendapatan Budi sebelum pembayaran pajak: 8750000.0\n",
      "2. Pendapatan Budi setelah pembayaran pajak: 7525000.0\n",
      "3. Jumlah uang yang akan Budi habiskan untuk membeli pakaian dan aksesoris: 752500.0\n",
      "4. Jumlah uang yang akan Budi habiskan untuk membeli alat tulis: 75250.0\n",
      "5. Jumlah uang yang akan Budi sedekahkan: 1881250.0\n",
      "6. Jumlah uang yang akan diterima anak yatim: 564375.0\n",
      "7. Jumlah uang yang akan diterima kaum dhuafa: 1316875.0\n"
     ]
    }
   ],
   "source": [
    "gaji_perjam = float(input(\"Masukkan gaji per jam yang Anda inginkan: \"))\n",
    "jumlah_kerja = int(input(\"Masukkan jumlah jam kerja per minggu yang Anda inginkan: \"))\n",
    "minggu = 7 * 5\n",
    "\n",
    "pendapatan_budi_sblm = gaji_perjam * jumlah_kerja * minggu\n",
    "total_pajak = pendapatan_budi_sblm * 0.14\n",
    "pendapatan_budi_stlh = pendapatan_budi_sblm - total_pajak\n",
    "uang_baju = pendapatan_budi_stlh * 0.10\n",
    "uang_alat_tulis = pendapatan_budi_stlh * 0.01\n",
    "uang_sedekah = pendapatan_budi_stlh * 0.25\n",
    "uang_anak_yatim = uang_sedekah * 0.30\n",
    "uang_kaum_dhuafa = uang_sedekah * 0.70\n",
    "\n",
    "print(\"1. Pendapatan Budi sebelum pembayaran pajak:\", pendapatan_budi_sblm)\n",
    "print(\"2. Pendapatan Budi setelah pembayaran pajak:\", pendapatan_budi_stlh)\n",
    "print(\"3. Jumlah uang yang akan Budi habiskan untuk membeli pakaian dan aksesoris:\", uang_baju)\n",
    "print(\"4. Jumlah uang yang akan Budi habiskan untuk membeli alat tulis:\", uang_alat_tulis)\n",
    "print(\"5. Jumlah uang yang akan Budi sedekahkan:\", uang_sedekah)\n",
    "print(\"6. Jumlah uang yang akan diterima anak yatim:\", uang_anak_yatim)\n",
    "print(\"7. Jumlah uang yang akan diterima kaum dhuafa:\", uang_kaum_dhuafa)"
   ]
  },
  {
   "cell_type": "code",
   "execution_count": null,
   "id": "adf149ff",
   "metadata": {},
   "outputs": [],
   "source": []
  }
 ],
 "metadata": {
  "kernelspec": {
   "display_name": "Python 3 (ipykernel)",
   "language": "python",
   "name": "python3"
  },
  "language_info": {
   "codemirror_mode": {
    "name": "ipython",
    "version": 3
   },
   "file_extension": ".py",
   "mimetype": "text/x-python",
   "name": "python",
   "nbconvert_exporter": "python",
   "pygments_lexer": "ipython3",
   "version": "3.11.5"
  }
 },
 "nbformat": 4,
 "nbformat_minor": 5
}
